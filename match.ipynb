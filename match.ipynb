{
 "cells": [
  {
   "cell_type": "markdown",
   "metadata": {},
   "source": [
    "1. Write a function categorize_elements that takes a list containing mixed data types (such as integers, strings, booleans, floats, etc.) and categorizes each element. Use the match statement to check the type of each element and return a list of strings where each string describes the type of the element and its value. If the type is unknown or not covered, categorize it as \"unknown type.\"\n",
    "\n",
    "Input: [123, \"hello\", True, 45.67, [1, 2], {\"key\": \"value\"}, None]\n",
    "\n",
    "Output:  ['integer', 'string', 'boolean', 'float', 'list', 'dictionary', 'unknown']\n",
    "Type Categories:\n",
    "Integers are labeled as 'integer'.\n",
    "Strings are labeled as 'string'.\n",
    "Booleans are labeled as 'boolean'.\n",
    "Floats are labeled as 'float'.\n",
    "Lists are labeled as 'list'.\n",
    "Dictionaries are labeled as 'dictionary'.\n",
    "If an element doesn’t match a known type, append 'unknown'."
   ]
  },
  {
   "cell_type": "code",
   "execution_count": null,
   "metadata": {},
   "outputs": [],
   "source": [
    "# Uncomment to test\n",
    "# print(categorize_elements([123, \"hello\", True, 45.67, [1, 2], {\"key\": \"value\"}, None]))"
   ]
  },
  {
   "cell_type": "markdown",
   "metadata": {},
   "source": []
  }
 ],
 "metadata": {
  "language_info": {
   "name": "python"
  }
 },
 "nbformat": 4,
 "nbformat_minor": 2
}
