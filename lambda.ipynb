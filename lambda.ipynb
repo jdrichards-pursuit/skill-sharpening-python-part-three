{
 "cells": [
  {
   "cell_type": "markdown",
   "metadata": {},
   "source": [
    "1. Write a function square_numbers that takes a list of numbers and returns a list where each number is squared using lambda inside map."
   ]
  },
  {
   "cell_type": "code",
   "execution_count": null,
   "metadata": {},
   "outputs": [],
   "source": [
    "\n",
    "\n",
    "# Uncomment to test\n",
    "# print(square_numbers([1, 2, 3, 4]))"
   ]
  },
  {
   "cell_type": "markdown",
   "metadata": {},
   "source": [
    "2. Write a function filter_long_words that filters out words longer than 5 letters using lambda inside filter."
   ]
  },
  {
   "cell_type": "code",
   "execution_count": null,
   "metadata": {},
   "outputs": [],
   "source": [
    "# Uncomment to test\n",
    "# print(filter_long_words([\"apple\", \"banana\", \"cherry\", \"kiwi\"]))"
   ]
  },
  {
   "cell_type": "markdown",
   "metadata": {},
   "source": [
    "3.  a function sort_by_second that sorts a list of tuples based on the second element in each tuple using lambda as a key for sorted."
   ]
  },
  {
   "cell_type": "code",
   "execution_count": null,
   "metadata": {},
   "outputs": [],
   "source": [
    "# Uncomment to test\n",
    "# print(sort_by_second([(1, 3), (4, 1), (2, 2)]))"
   ]
  },
  {
   "cell_type": "markdown",
   "metadata": {},
   "source": [
    "4. Write a function words_starting_with that takes a list of words and a letter, and returns a list of words that start with that letter using lambda in filter.\n"
   ]
  },
  {
   "cell_type": "code",
   "execution_count": null,
   "metadata": {},
   "outputs": [],
   "source": [
    "# Uncomment to test\n",
    "# print(words_starting_with([\"apple\", \"banana\", \"cherry\", \"kiwi\"], \"b\"))"
   ]
  }
 ],
 "metadata": {
  "language_info": {
   "name": "python"
  }
 },
 "nbformat": 4,
 "nbformat_minor": 2
}
