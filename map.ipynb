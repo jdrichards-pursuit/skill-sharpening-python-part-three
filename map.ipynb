{
 "cells": [
  {
   "cell_type": "markdown",
   "metadata": {},
   "source": [
    "1. Using map and lambda, write a function that takes a list of words and returns a new list where each word has its letters doubled. For example, \"cat\" becomes \"ccaatt\".\n",
    "\n",
    "Input: [\"cat\", \"dog\", \"elephant\"]\n",
    "\n",
    "Output: [\"ccaaattt\", \"ddoogg\", \"eelelllppphhhhantt\"]\n",
    "\n"
   ]
  },
  {
   "cell_type": "code",
   "execution_count": null,
   "metadata": {},
   "outputs": [],
   "source": [
    "# Uncomment to test\n",
    "# print(double_letters([\"cat\", \"dog\", \"elephant\"]))"
   ]
  },
  {
   "cell_type": "markdown",
   "metadata": {},
   "source": [
    "Write a function that takes a list of words and returns a list where each word is replaced by only its vowels. For example, \"apple\" becomes \"ae\".\n",
    "\n",
    "Input: [\"apple\", \"banana\", \"cherry\"]\n",
    "Output: [\"ae\", \"aa\", \"ee\"]\n",
    "\n"
   ]
  },
  {
   "cell_type": "code",
   "execution_count": null,
   "metadata": {},
   "outputs": [],
   "source": [
    "# Uncomment to test\n",
    "# print(only_vowels([\"apple\", \"banana\", \"cherry\"]))"
   ]
  },
  {
   "cell_type": "markdown",
   "metadata": {},
   "source": [
    "Write a function that takes a list of words and returns a new list containing only the words that are palindromes (words that read the same forwards and backwards).\n",
    "\n",
    "Input: [\"apple\", \"banana\", \"cherry\", \"noon\", \"level\"]\n",
    "Output: [\"noon\", \"level\"]\n",
    "\n",
    "\n"
   ]
  },
  {
   "cell_type": "code",
   "execution_count": null,
   "metadata": {},
   "outputs": [],
   "source": [
    "# Uncomment to test\n",
    "# print(palindromes([\"apple\", \"banana\", \"cherry\", \"noon\", \"level\"]))"
   ]
  }
 ],
 "metadata": {
  "language_info": {
   "name": "python"
  }
 },
 "nbformat": 4,
 "nbformat_minor": 2
}
